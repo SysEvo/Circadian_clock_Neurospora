{
 "cells": [
  {
   "cell_type": "code",
   "execution_count": 1,
   "id": "d03a13bf",
   "metadata": {},
   "outputs": [],
   "source": [
    "import matplotlib.pyplot as plt\n",
    "import numpy as np\n",
    "from scipy.signal import find_peaks\n",
    "import pandas as pd"
   ]
  },
  {
   "cell_type": "code",
   "execution_count": 2,
   "id": "8c301565",
   "metadata": {},
   "outputs": [],
   "source": [
    "resultI = pd.read_csv(\"Result/Ind_inf_u0.03_M1.1_st600_N1000_v0.2_LD0_alg0_0.csv\")"
   ]
  },
  {
   "cell_type": "code",
   "execution_count": 150,
   "id": "475822e7",
   "metadata": {},
   "outputs": [],
   "source": [
    "rW = np.array(resultI[\"WCCn\"])\n",
    "rT = np.array(resultI[\"Time\"])\n",
    "\n",
    "#n=np.arange(192)+0.3\n",
    "#for ind in :\n",
    " #   plt.plot()\n",
    "#plt.show()"
   ]
  },
  {
   "cell_type": "code",
   "execution_count": 151,
   "id": "fc9c660a",
   "metadata": {
    "scrolled": true
   },
   "outputs": [],
   "source": [
    "rP = [[],[]]\n",
    "count=0\n",
    "for i in range(len(rW)):\n",
    "    try:\n",
    "        a=np.append(np.mat(rW[i]),np.mat(rT[i]),axis=0)\n",
    "        rP = np.append(rP,a,axis=1)\n",
    "    except:\n",
    "        count+=1\n",
    "        print(count)"
   ]
  },
  {
   "cell_type": "code",
   "execution_count": null,
   "id": "61aeac78",
   "metadata": {},
   "outputs": [],
   "source": [
    "plt.plot(rP[1],rP[0],\".\")\n",
    "plt.vlines(range(0,500,24),0,2e6)\n",
    "plt.xlim([0,500])\n",
    "plt.show()"
   ]
  },
  {
   "cell_type": "code",
   "execution_count": 32,
   "id": "cc66090c",
   "metadata": {
    "scrolled": true
   },
   "outputs": [
    {
     "data": {
      "text/html": [
       "<div>\n",
       "<style scoped>\n",
       "    .dataframe tbody tr th:only-of-type {\n",
       "        vertical-align: middle;\n",
       "    }\n",
       "\n",
       "    .dataframe tbody tr th {\n",
       "        vertical-align: top;\n",
       "    }\n",
       "\n",
       "    .dataframe thead th {\n",
       "        text-align: right;\n",
       "    }\n",
       "</style>\n",
       "<table border=\"1\" class=\"dataframe\">\n",
       "  <thead>\n",
       "    <tr style=\"text-align: right;\">\n",
       "      <th></th>\n",
       "      <th>Unnamed: 0</th>\n",
       "      <th>Generation</th>\n",
       "      <th>Environment (LD=0 or DD=1)</th>\n",
       "      <th>Expresion and repression constants</th>\n",
       "      <th>Constant of light rate</th>\n",
       "      <th>Disociation constants</th>\n",
       "      <th>Hill exponents</th>\n",
       "      <th>Fitness</th>\n",
       "    </tr>\n",
       "  </thead>\n",
       "  <tbody>\n",
       "    <tr>\n",
       "      <th>0</th>\n",
       "      <td>0</td>\n",
       "      <td>1.0</td>\n",
       "      <td>0</td>\n",
       "      <td>[2.98908823e+06 1.20757351e+00 9.02653677e+01 ...</td>\n",
       "      <td>0.099762</td>\n",
       "      <td>[1.20035931e-08 7.51049588e+05 1.25000000e+05 ...</td>\n",
       "      <td>[2.         2.00283337 2.9790946  3.0236786 ]</td>\n",
       "      <td>3.605056e-03</td>\n",
       "    </tr>\n",
       "    <tr>\n",
       "      <th>1</th>\n",
       "      <td>1</td>\n",
       "      <td>2.0</td>\n",
       "      <td>0</td>\n",
       "      <td>[3.03107737e+06 1.23072979e+00 9.18788418e+01 ...</td>\n",
       "      <td>0.100681</td>\n",
       "      <td>[1.19743178e-08 7.51279213e+05 1.27018737e+05 ...</td>\n",
       "      <td>[1.96920323 2.01826853 2.95061896 3.0816592 ]</td>\n",
       "      <td>2.194622e-06</td>\n",
       "    </tr>\n",
       "    <tr>\n",
       "      <th>2</th>\n",
       "      <td>2</td>\n",
       "      <td>3.0</td>\n",
       "      <td>0</td>\n",
       "      <td>[3.05786882e+06 1.24608604e+00 9.30550519e+01 ...</td>\n",
       "      <td>0.101250</td>\n",
       "      <td>[1.16885510e-08 7.37954522e+05 1.28401876e+05 ...</td>\n",
       "      <td>[1.94810278 2.00949513 2.9198043  3.16763325]</td>\n",
       "      <td>3.060166e-06</td>\n",
       "    </tr>\n",
       "    <tr>\n",
       "      <th>3</th>\n",
       "      <td>3</td>\n",
       "      <td>4.0</td>\n",
       "      <td>0</td>\n",
       "      <td>[3.04128099e+06 1.28391300e+00 9.93320061e+01 ...</td>\n",
       "      <td>0.099145</td>\n",
       "      <td>[1.15947381e-08 7.21587387e+05 1.29432942e+05 ...</td>\n",
       "      <td>[1.93237339 1.99101516 2.89325165 3.38400545]</td>\n",
       "      <td>1.220286e-07</td>\n",
       "    </tr>\n",
       "    <tr>\n",
       "      <th>4</th>\n",
       "      <td>4</td>\n",
       "      <td>5.0</td>\n",
       "      <td>0</td>\n",
       "      <td>[3.11623159e+06 1.26937203e+00 9.98419438e+01 ...</td>\n",
       "      <td>0.098556</td>\n",
       "      <td>[1.16442521e-08 7.11252440e+05 1.31873922e+05 ...</td>\n",
       "      <td>[1.79012312 1.96373793 2.84287458 3.42459174]</td>\n",
       "      <td>8.644082e-07</td>\n",
       "    </tr>\n",
       "    <tr>\n",
       "      <th>...</th>\n",
       "      <td>...</td>\n",
       "      <td>...</td>\n",
       "      <td>...</td>\n",
       "      <td>...</td>\n",
       "      <td>...</td>\n",
       "      <td>...</td>\n",
       "      <td>...</td>\n",
       "      <td>...</td>\n",
       "    </tr>\n",
       "    <tr>\n",
       "      <th>245</th>\n",
       "      <td>245</td>\n",
       "      <td>246.0</td>\n",
       "      <td>0</td>\n",
       "      <td>[4.34958505e+06 6.53308875e+00 7.90733445e+02 ...</td>\n",
       "      <td>0.132195</td>\n",
       "      <td>[4.26304084e-08 7.13532713e+05 1.33879596e+05 ...</td>\n",
       "      <td>[10.80249323  1.07203061 18.17335675  3.78913717]</td>\n",
       "      <td>6.564441e-09</td>\n",
       "    </tr>\n",
       "    <tr>\n",
       "      <th>246</th>\n",
       "      <td>246</td>\n",
       "      <td>247.0</td>\n",
       "      <td>0</td>\n",
       "      <td>[4.34210061e+06 6.57746202e+00 8.13764611e+02 ...</td>\n",
       "      <td>0.135568</td>\n",
       "      <td>[4.13389542e-08 7.28751609e+05 1.33626393e+05 ...</td>\n",
       "      <td>[10.95291042  1.15453829 16.29020291  3.33326035]</td>\n",
       "      <td>6.048993e-09</td>\n",
       "    </tr>\n",
       "    <tr>\n",
       "      <th>247</th>\n",
       "      <td>247</td>\n",
       "      <td>248.0</td>\n",
       "      <td>0</td>\n",
       "      <td>[4.77165337e+06 6.12710247e+00 8.16998968e+02 ...</td>\n",
       "      <td>0.151216</td>\n",
       "      <td>[4.38038279e-08 7.58999846e+05 1.26220625e+05 ...</td>\n",
       "      <td>[12.11465867  1.18636252 17.68041943  3.42455578]</td>\n",
       "      <td>5.835254e-09</td>\n",
       "    </tr>\n",
       "    <tr>\n",
       "      <th>248</th>\n",
       "      <td>248</td>\n",
       "      <td>249.0</td>\n",
       "      <td>0</td>\n",
       "      <td>[4.80695713e+06 6.08574817e+00 8.12064688e+02 ...</td>\n",
       "      <td>0.152695</td>\n",
       "      <td>[4.05991757e-08 7.30661425e+05 1.17426335e+05 ...</td>\n",
       "      <td>[11.60566111  1.20745797 18.90010055  3.31244642]</td>\n",
       "      <td>6.758939e-09</td>\n",
       "    </tr>\n",
       "    <tr>\n",
       "      <th>249</th>\n",
       "      <td>249</td>\n",
       "      <td>250.0</td>\n",
       "      <td>0</td>\n",
       "      <td>[4.80695713e+06 6.08574817e+00 8.12064688e+02 ...</td>\n",
       "      <td>0.152695</td>\n",
       "      <td>[3.91502638e-08 7.96315675e+05 1.01233140e+05 ...</td>\n",
       "      <td>[10.55134053  1.26943525 20.62009258  2.76821991]</td>\n",
       "      <td>7.391176e-09</td>\n",
       "    </tr>\n",
       "  </tbody>\n",
       "</table>\n",
       "<p>250 rows × 8 columns</p>\n",
       "</div>"
      ],
      "text/plain": [
       "     Unnamed: 0  Generation  Environment (LD=0 or DD=1)  \\\n",
       "0             0         1.0                           0   \n",
       "1             1         2.0                           0   \n",
       "2             2         3.0                           0   \n",
       "3             3         4.0                           0   \n",
       "4             4         5.0                           0   \n",
       "..          ...         ...                         ...   \n",
       "245         245       246.0                           0   \n",
       "246         246       247.0                           0   \n",
       "247         247       248.0                           0   \n",
       "248         248       249.0                           0   \n",
       "249         249       250.0                           0   \n",
       "\n",
       "                    Expresion and repression constants  \\\n",
       "0    [2.98908823e+06 1.20757351e+00 9.02653677e+01 ...   \n",
       "1    [3.03107737e+06 1.23072979e+00 9.18788418e+01 ...   \n",
       "2    [3.05786882e+06 1.24608604e+00 9.30550519e+01 ...   \n",
       "3    [3.04128099e+06 1.28391300e+00 9.93320061e+01 ...   \n",
       "4    [3.11623159e+06 1.26937203e+00 9.98419438e+01 ...   \n",
       "..                                                 ...   \n",
       "245  [4.34958505e+06 6.53308875e+00 7.90733445e+02 ...   \n",
       "246  [4.34210061e+06 6.57746202e+00 8.13764611e+02 ...   \n",
       "247  [4.77165337e+06 6.12710247e+00 8.16998968e+02 ...   \n",
       "248  [4.80695713e+06 6.08574817e+00 8.12064688e+02 ...   \n",
       "249  [4.80695713e+06 6.08574817e+00 8.12064688e+02 ...   \n",
       "\n",
       "     Constant of light rate  \\\n",
       "0                  0.099762   \n",
       "1                  0.100681   \n",
       "2                  0.101250   \n",
       "3                  0.099145   \n",
       "4                  0.098556   \n",
       "..                      ...   \n",
       "245                0.132195   \n",
       "246                0.135568   \n",
       "247                0.151216   \n",
       "248                0.152695   \n",
       "249                0.152695   \n",
       "\n",
       "                                 Disociation constants  \\\n",
       "0    [1.20035931e-08 7.51049588e+05 1.25000000e+05 ...   \n",
       "1    [1.19743178e-08 7.51279213e+05 1.27018737e+05 ...   \n",
       "2    [1.16885510e-08 7.37954522e+05 1.28401876e+05 ...   \n",
       "3    [1.15947381e-08 7.21587387e+05 1.29432942e+05 ...   \n",
       "4    [1.16442521e-08 7.11252440e+05 1.31873922e+05 ...   \n",
       "..                                                 ...   \n",
       "245  [4.26304084e-08 7.13532713e+05 1.33879596e+05 ...   \n",
       "246  [4.13389542e-08 7.28751609e+05 1.33626393e+05 ...   \n",
       "247  [4.38038279e-08 7.58999846e+05 1.26220625e+05 ...   \n",
       "248  [4.05991757e-08 7.30661425e+05 1.17426335e+05 ...   \n",
       "249  [3.91502638e-08 7.96315675e+05 1.01233140e+05 ...   \n",
       "\n",
       "                                        Hill exponents       Fitness  \n",
       "0        [2.         2.00283337 2.9790946  3.0236786 ]  3.605056e-03  \n",
       "1        [1.96920323 2.01826853 2.95061896 3.0816592 ]  2.194622e-06  \n",
       "2        [1.94810278 2.00949513 2.9198043  3.16763325]  3.060166e-06  \n",
       "3        [1.93237339 1.99101516 2.89325165 3.38400545]  1.220286e-07  \n",
       "4        [1.79012312 1.96373793 2.84287458 3.42459174]  8.644082e-07  \n",
       "..                                                 ...           ...  \n",
       "245  [10.80249323  1.07203061 18.17335675  3.78913717]  6.564441e-09  \n",
       "246  [10.95291042  1.15453829 16.29020291  3.33326035]  6.048993e-09  \n",
       "247  [12.11465867  1.18636252 17.68041943  3.42455578]  5.835254e-09  \n",
       "248  [11.60566111  1.20745797 18.90010055  3.31244642]  6.758939e-09  \n",
       "249  [10.55134053  1.26943525 20.62009258  2.76821991]  7.391176e-09  \n",
       "\n",
       "[250 rows x 8 columns]"
      ]
     },
     "execution_count": 32,
     "metadata": {},
     "output_type": "execute_result"
    }
   ],
   "source": [
    "resultA = pd.read_csv(\"Result/AveGenSub_u0.03_M1.1_st600_N1000_v0.2_LD0_alg0_0.csv\")\n",
    "resultA"
   ]
  },
  {
   "cell_type": "code",
   "execution_count": 37,
   "id": "b5fc7dc0-2cb6-4f2d-8775-479fe4f1dbdc",
   "metadata": {},
   "outputs": [
    {
     "data": {
      "image/png": "[encoded data removed]",
      "text/plain": [
       "<Figure size 432x288 with 1 Axes>"
      ]
     },
     "metadata": {
      "needs_background": "light"
     },
     "output_type": "display_data"
    }
   ],
   "source": [
    "plt.plot(resultA[\"Generation\"],resultA[\"Constant of light rate\"],'.')\n",
    "plt.show()"
   ]
  },
  {
   "cell_type": "code",
   "execution_count": 59,
   "id": "b90a7377-e8ec-4775-bc13-b7ebe753cc31",
   "metadata": {
    "tags": []
   },
   "outputs": [],
   "source": [
    "ERk = [[0]*23]\n",
    "for k in resultA[\"Expresion and repression constants\"]:\n",
    "    ERk = np.append(ERk,np.mat(k)[0],axis=0)"
   ]
  },
  {
   "cell_type": "code",
   "execution_count": 138,
   "id": "ff62136b-5145-4310-81be-357129991b0f",
   "metadata": {},
   "outputs": [
    {
     "data": {
      "image/png": "[encoded data removed]",
      "text/plain": [
       "<Figure size 432x288 with 1 Axes>"
      ]
     },
     "metadata": {
      "needs_background": "light"
     },
     "output_type": "display_data"
    },
    {
     "data": {
      "image/png": "[encoded data removed]",
      "text/plain": [
       "<Figure size 432x288 with 1 Axes>"
      ]
     },
     "metadata": {
      "needs_background": "light"
     },
     "output_type": "display_data"
    },
    {
     "data": {
      "image/png": "[encoded data removed]",
      "text/plain": [
       "<Figure size 432x288 with 1 Axes>"
      ]
     },
     "metadata": {
      "needs_background": "light"
     },
     "output_type": "display_data"
    },
    {
     "data": {
      "image/png": "[encoded data removed]",
      "text/plain": [
       "<Figure size 432x288 with 1 Axes>"
      ]
     },
     "metadata": {
      "needs_background": "light"
     },
     "output_type": "display_data"
    },
    {
     "data": {
      "image/png": "[encoded data removed]",
      "text/plain": [
       "<Figure size 432x288 with 1 Axes>"
      ]
     },
     "metadata": {
      "needs_background": "light"
     },
     "output_type": "display_data"
    },
    {
     "data": {
      "image/png": "[encoded data removed]",
      "text/plain": [
       "<Figure size 432x288 with 1 Axes>"
      ]
     },
     "metadata": {
      "needs_background": "light"
     },
     "output_type": "display_data"
    },
    {
     "data": {
      "image/png": "[encoded data removed]",
      "text/plain": [
       "<Figure size 432x288 with 1 Axes>"
      ]
     },
     "metadata": {
      "needs_background": "light"
     },
     "output_type": "display_data"
    },
    {
     "data": {
      "image/png": "[encoded data removed]",
      "text/plain": [
       "<Figure size 432x288 with 1 Axes>"
      ]
     },
     "metadata": {
      "needs_background": "light"
     },
     "output_type": "display_data"
    },
    {
     "data": {
      "image/png": "[encoded data removed]",
      "text/plain": [
       "<Figure size 432x288 with 1 Axes>"
      ]
     },
     "metadata": {
      "needs_background": "light"
     },
     "output_type": "display_data"
    },
    {
     "data": {
      "image/png": "[encoded data removed]",
      "text/plain": [
       "<Figure size 432x288 with 1 Axes>"
      ]
     },
     "metadata": {
      "needs_background": "light"
     },
     "output_type": "display_data"
    },
    {
     "data": {
      "image/png": "[encoded data removed]",
      "text/plain": [
       "<Figure size 432x288 with 1 Axes>"
      ]
     },
     "metadata": {
      "needs_background": "light"
     },
     "output_type": "display_data"
    },
    {
     "data": {
      "image/png": "[encoded data removed]",
      "text/plain": [
       "<Figure size 432x288 with 1 Axes>"
      ]
     },
     "metadata": {
      "needs_background": "light"
     },
     "output_type": "display_data"
    },
    {
     "data": {
      "text/plain": [
       "<Figure size 432x288 with 0 Axes>"
      ]
     },
     "metadata": {},
     "output_type": "display_data"
    }
   ],
   "source": [
    "for i in range(0,23):\n",
    "    if not i in [7,8,9,10,12,16,17,18,19,21,22]:\n",
    "        plt.hist(ERk[:,i])\n",
    "        plt.title(\"k{}\".format(i))\n",
    "        plt.show()\n",
    "        plt.savefig(\"Result/k{}.jpg\".format(i))"
   ]
  },
  {
   "cell_type": "code",
   "execution_count": 130,
   "id": "20e45c3d-a16d-48c6-9a5d-fa028671ff3d",
   "metadata": {
    "tags": []
   },
   "outputs": [
    {
     "data": {
      "text/plain": [
       "True"
      ]
     },
     "execution_count": 130,
     "metadata": {},
     "output_type": "execute_result"
    }
   ],
   "source": []
  },
  {
   "cell_type": "code",
   "execution_count": 85,
   "id": "0051a071-7db2-4696-a45b-9b16e5bd5dc1",
   "metadata": {},
   "outputs": [],
   "source": [
    "from scipy import stats\n",
    "def normalidad_variable_numerica(col):\n",
    "    stats.probplot(resultA[col], plot=plt)\n",
    "    plt.xlabel('Diagrama de Probabilidad(normal) de la variable {}'.format(col))\n",
    "    plt.show()"
   ]
  },
  {
   "cell_type": "code",
   "execution_count": 91,
   "id": "66b6bdc8-34bc-43b7-b825-2d855329ae7b",
   "metadata": {},
   "outputs": [
    {
     "data": {
      "image/png": "[encoded data removed]",
      "text/plain": [
       "<Figure size 432x288 with 1 Axes>"
      ]
     },
     "metadata": {
      "needs_background": "light"
     },
     "output_type": "display_data"
    }
   ],
   "source": [
    "normalidad_variable_numerica(\"Constant of light rate\")"
   ]
  },
  {
   "cell_type": "code",
   "execution_count": 93,
   "id": "e9a7f007-78ce-4b20-9334-e25bc8792a23",
   "metadata": {},
   "outputs": [],
   "source": [
    "nH = [[0]*4]\n",
    "for n in resultA[\"Hill exponents\"]:\n",
    "    nH = np.append(nH,np.mat(n)[0],axis=0)\n",
    "nH = nH[1:]"
   ]
  },
  {
   "cell_type": "code",
   "execution_count": 95,
   "id": "f28f12cc-03c0-4a44-b987-94df317eef52",
   "metadata": {},
   "outputs": [
    {
     "data": {
      "image/png": "[encoded data removed]",
      "text/plain": [
       "<Figure size 432x288 with 1 Axes>"
      ]
     },
     "metadata": {
      "needs_background": "light"
     },
     "output_type": "display_data"
    }
   ],
   "source": [
    "plt.boxplot(nH)\n",
    "plt.show()"
   ]
  },
  {
   "cell_type": "code",
   "execution_count": null,
   "id": "1edebe37-cf47-460e-af51-8c06409957ed",
   "metadata": {},
   "outputs": [],
   "source": []
  }
 ],
 "metadata": {
  "kernelspec": {
   "display_name": "Python 3 (ipykernel)",
   "language": "python",
   "name": "python3"
  },
  "language_info": {
   "codemirror_mode": {
    "name": "ipython",
    "version": 3
   },
   "file_extension": ".py",
   "mimetype": "text/x-python",
   "name": "python",
   "nbconvert_exporter": "python",
   "pygments_lexer": "ipython3",
   "version": "3.9.12"
  }
 },
 "nbformat": 4,
 "nbformat_minor": 5
}
